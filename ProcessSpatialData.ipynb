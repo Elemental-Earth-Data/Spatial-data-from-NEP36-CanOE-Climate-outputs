{
 "cells": [
  {
   "cell_type": "markdown",
   "metadata": {},
   "source": [
    "# Spatial Data for NEP36-CanOE"
   ]
  },
  {
   "cell_type": "markdown",
   "metadata": {},
   "source": [
    "February 2021\n",
    "\n",
    "James Munroe"
   ]
  },
  {
   "cell_type": "markdown",
   "metadata": {},
   "source": [
    "## Tasks\n",
    "\n",
    "1. For 3 different simulations: historical, RCP4.5, RCP 8.5 generate benthic and surface layers for: O2, PH, T, S, NO3, integrated PP, speed, MLD. \n",
    "- These should be generated in a tiff format. The TIFF files should be georeferenced (contain projection information, even if layers are WGS84 – unprojected. GIS hub primarily uses the BC Albers projection (EPSG: 3005). \n",
    "- These should be calculated for spring/summer and fall/winter \n",
    "- Total layers: 3 simulations*( 6vars*2+ 1PP +1MLD) = 42 layers \n",
    "- Standardized names should be used that correspond to existing nomenclature (ie. NEP36-CanOE_historical_1986-2005_varname_season_bottom.tif) \n"
   ]
  },
  {
   "cell_type": "markdown",
   "metadata": {},
   "source": [
    "### Import required Python packages"
   ]
  },
  {
   "cell_type": "markdown",
   "metadata": {},
   "source": [
    "This notebooks is primarily using the Xarray package with the rioxarray add-on.  Matplotlib is used to verify the results."
   ]
  },
  {
   "cell_type": "code",
   "execution_count": 1,
   "metadata": {},
   "outputs": [],
   "source": [
    "import rioxarray\n",
    "import xarray as xr\n",
    "\n",
    "import glob\n",
    "import os\n",
    "import subprocess\n",
    "import re\n",
    "\n",
    "import matplotlib.pyplot as plt\n",
    "%matplotlib inline\n",
    "%config InlineBackend.figure_format='retina'"
   ]
  },
  {
   "cell_type": "markdown",
   "metadata": {},
   "source": [
    "\n",
    "## Incoming datasets\n",
    "\n",
    "The incoming datasets need to accesible to this notebook.  "
   ]
  },
  {
   "cell_type": "code",
   "execution_count": 2,
   "metadata": {},
   "outputs": [],
   "source": [
    "input_dir = './NEP36-CanOE_masked_715'"
   ]
  },
  {
   "cell_type": "markdown",
   "metadata": {},
   "source": [
    "We are ssuming that there is a local directory called `NEP36-CanOE_masked_715` that either contains or is symlinked to the output for the different simulation.  If this is not the case please adjust the path above."
   ]
  },
  {
   "cell_type": "markdown",
   "metadata": {},
   "source": [
    "Here are the simulations that need to be processed. "
   ]
  },
  {
   "cell_type": "code",
   "execution_count": 3,
   "metadata": {},
   "outputs": [],
   "source": [
    "simulations = ['historical_1986-2005', \n",
    "               'RCP45_2046-2065', \n",
    "               'RCP85_2046-2065']"
   ]
  },
  {
   "cell_type": "markdown",
   "metadata": {},
   "source": [
    "We need to assume the filenames have a given pattern"
   ]
  },
  {
   "cell_type": "code",
   "execution_count": 4,
   "metadata": {},
   "outputs": [],
   "source": [
    "ncfile_pattern = 'NEP36-CanOE_{variable}_{simulation}_monthly_715x715_mask.nc'"
   ]
  },
  {
   "cell_type": "markdown",
   "metadata": {},
   "source": [
    "Start by confirming there are netCDF files where we are expecting them and that they have this naming pattern."
   ]
  },
  {
   "cell_type": "code",
   "execution_count": 5,
   "metadata": {},
   "outputs": [
    {
     "name": "stdout",
     "output_type": "stream",
     "text": [
      "Looking for NetCDF files in ./NEP36-CanOE_masked_715\n",
      "----------------------------------------------------\n",
      "  historical_1986-2005      20/20 files matched\n",
      "  RCP45_2046-2065           20/20 files matched\n",
      "  RCP85_2046-2065           20/20 files matched\n",
      "\n",
      "File name pattern: NEP36-CanOE_{variable}_{simulation}_monthly_715x715_mask.nc\n",
      "Total variables found: 20\n",
      "['maxPH', 'omega_a', 'Cflx', 'DIC', 'TCHL', 'Alkalini', 'TPP', 'mintemp', 'speed', 'NO3', 'mld', 'O2', 'temp', 'minO2', 'maxtemp', 'minPH', 'PH', 'sigma', 'salt', 'maxO2']\n"
     ]
    }
   ],
   "source": [
    "heading = f'Looking for NetCDF files in {input_dir}'\n",
    "\n",
    "print(heading)\n",
    "print('-'*len(heading))\n",
    "all_variables = []\n",
    "for simulation in simulations:\n",
    "    simulation_shortname = simulation.split('_')[0]\n",
    "    \n",
    "    path = os.path.join(input_dir, simulation_shortname)\n",
    "    \n",
    "    regex = os.path.join(path, ncfile_pattern.format(variable='(.*)', simulation=simulation))\n",
    "    m = re.compile(regex)\n",
    "    \n",
    "    ncfiles = glob.glob(os.path.join(path, '*.nc'))\n",
    "    variables = []\n",
    "    for ncfile in ncfiles:\n",
    "        matches = m.match(ncfile)\n",
    "        if matches is not None:\n",
    "            variable = m.match(ncfile).group(1)\n",
    "            variables.append(variable)            \n",
    "            \n",
    "    all_variables.extend(variables)\n",
    "    \n",
    "    print(f'  {simulation:25} {len(variables)}/{len(ncfiles)} files matched')\n",
    "all_variables = list(set(all_variables))\n",
    "print('\\nFile name pattern:', ncfile_pattern)\n",
    "print(f'Total variables found: {len(all_variables)}')\n",
    "print(f'{all_variables}')"
   ]
  },
  {
   "cell_type": "markdown",
   "metadata": {},
   "source": [
    "Hopefully, the number of variables matches the number the number of files in each simulation.  If this is not so modify `ncfile_pattern` as required."
   ]
  },
  {
   "cell_type": "markdown",
   "metadata": {},
   "source": [
    "## Opening a netCDF file with xarray"
   ]
  },
  {
   "cell_type": "markdown",
   "metadata": {},
   "source": [
    "To open a netCDF file using `xarray` we use the `.open_dataset()` method."
   ]
  },
  {
   "cell_type": "code",
   "execution_count": 6,
   "metadata": {},
   "outputs": [
    {
     "name": "stdout",
     "output_type": "stream",
     "text": [
      "Opening ./NEP36-CanOE_masked_715/historical/NEP36-CanOE_temp_historical_1986-2005_monthly_715x715_mask.nc\n"
     ]
    }
   ],
   "source": [
    "variable = 'temp'\n",
    "simulation = 'historical_1986-2005'\n",
    "\n",
    "simulation_shortname = simulation.split('_')[0]\n",
    "path = os.path.join(input_dir, simulation_shortname)\n",
    "ncfile = os.path.join(path, ncfile_pattern.format(variable=variable, simulation=simulation))\n",
    "\n",
    "print(f'Opening {ncfile}')\n",
    "ds = xr.open_dataset(ncfile)"
   ]
  },
  {
   "cell_type": "code",
   "execution_count": 7,
   "metadata": {},
   "outputs": [
    {
     "data": {
      "text/html": [
       "<div><svg style=\"position: absolute; width: 0; height: 0; overflow: hidden\">\n",
       "<defs>\n",
       "<symbol id=\"icon-database\" viewBox=\"0 0 32 32\">\n",
       "<path d=\"M16 0c-8.837 0-16 2.239-16 5v4c0 2.761 7.163 5 16 5s16-2.239 16-5v-4c0-2.761-7.163-5-16-5z\"></path>\n",
       "<path d=\"M16 17c-8.837 0-16-2.239-16-5v6c0 2.761 7.163 5 16 5s16-2.239 16-5v-6c0 2.761-7.163 5-16 5z\"></path>\n",
       "<path d=\"M16 26c-8.837 0-16-2.239-16-5v6c0 2.761 7.163 5 16 5s16-2.239 16-5v-6c0 2.761-7.163 5-16 5z\"></path>\n",
       "</symbol>\n",
       "<symbol id=\"icon-file-text2\" viewBox=\"0 0 32 32\">\n",
       "<path d=\"M28.681 7.159c-0.694-0.947-1.662-2.053-2.724-3.116s-2.169-2.030-3.116-2.724c-1.612-1.182-2.393-1.319-2.841-1.319h-15.5c-1.378 0-2.5 1.121-2.5 2.5v27c0 1.378 1.122 2.5 2.5 2.5h23c1.378 0 2.5-1.122 2.5-2.5v-19.5c0-0.448-0.137-1.23-1.319-2.841zM24.543 5.457c0.959 0.959 1.712 1.825 2.268 2.543h-4.811v-4.811c0.718 0.556 1.584 1.309 2.543 2.268zM28 29.5c0 0.271-0.229 0.5-0.5 0.5h-23c-0.271 0-0.5-0.229-0.5-0.5v-27c0-0.271 0.229-0.5 0.5-0.5 0 0 15.499-0 15.5 0v7c0 0.552 0.448 1 1 1h7v19.5z\"></path>\n",
       "<path d=\"M23 26h-14c-0.552 0-1-0.448-1-1s0.448-1 1-1h14c0.552 0 1 0.448 1 1s-0.448 1-1 1z\"></path>\n",
       "<path d=\"M23 22h-14c-0.552 0-1-0.448-1-1s0.448-1 1-1h14c0.552 0 1 0.448 1 1s-0.448 1-1 1z\"></path>\n",
       "<path d=\"M23 18h-14c-0.552 0-1-0.448-1-1s0.448-1 1-1h14c0.552 0 1 0.448 1 1s-0.448 1-1 1z\"></path>\n",
       "</symbol>\n",
       "</defs>\n",
       "</svg>\n",
       "<style>/* CSS stylesheet for displaying xarray objects in jupyterlab.\n",
       " *\n",
       " */\n",
       "\n",
       ":root {\n",
       "  --xr-font-color0: var(--jp-content-font-color0, rgba(0, 0, 0, 1));\n",
       "  --xr-font-color2: var(--jp-content-font-color2, rgba(0, 0, 0, 0.54));\n",
       "  --xr-font-color3: var(--jp-content-font-color3, rgba(0, 0, 0, 0.38));\n",
       "  --xr-border-color: var(--jp-border-color2, #e0e0e0);\n",
       "  --xr-disabled-color: var(--jp-layout-color3, #bdbdbd);\n",
       "  --xr-background-color: var(--jp-layout-color0, white);\n",
       "  --xr-background-color-row-even: var(--jp-layout-color1, white);\n",
       "  --xr-background-color-row-odd: var(--jp-layout-color2, #eeeeee);\n",
       "}\n",
       "\n",
       "html[theme=dark],\n",
       "body.vscode-dark {\n",
       "  --xr-font-color0: rgba(255, 255, 255, 1);\n",
       "  --xr-font-color2: rgba(255, 255, 255, 0.54);\n",
       "  --xr-font-color3: rgba(255, 255, 255, 0.38);\n",
       "  --xr-border-color: #1F1F1F;\n",
       "  --xr-disabled-color: #515151;\n",
       "  --xr-background-color: #111111;\n",
       "  --xr-background-color-row-even: #111111;\n",
       "  --xr-background-color-row-odd: #313131;\n",
       "}\n",
       "\n",
       ".xr-wrap {\n",
       "  display: block;\n",
       "  min-width: 300px;\n",
       "  max-width: 700px;\n",
       "}\n",
       "\n",
       ".xr-text-repr-fallback {\n",
       "  /* fallback to plain text repr when CSS is not injected (untrusted notebook) */\n",
       "  display: none;\n",
       "}\n",
       "\n",
       ".xr-header {\n",
       "  padding-top: 6px;\n",
       "  padding-bottom: 6px;\n",
       "  margin-bottom: 4px;\n",
       "  border-bottom: solid 1px var(--xr-border-color);\n",
       "}\n",
       "\n",
       ".xr-header > div,\n",
       ".xr-header > ul {\n",
       "  display: inline;\n",
       "  margin-top: 0;\n",
       "  margin-bottom: 0;\n",
       "}\n",
       "\n",
       ".xr-obj-type,\n",
       ".xr-array-name {\n",
       "  margin-left: 2px;\n",
       "  margin-right: 10px;\n",
       "}\n",
       "\n",
       ".xr-obj-type {\n",
       "  color: var(--xr-font-color2);\n",
       "}\n",
       "\n",
       ".xr-sections {\n",
       "  padding-left: 0 !important;\n",
       "  display: grid;\n",
       "  grid-template-columns: 150px auto auto 1fr 20px 20px;\n",
       "}\n",
       "\n",
       ".xr-section-item {\n",
       "  display: contents;\n",
       "}\n",
       "\n",
       ".xr-section-item input {\n",
       "  display: none;\n",
       "}\n",
       "\n",
       ".xr-section-item input + label {\n",
       "  color: var(--xr-disabled-color);\n",
       "}\n",
       "\n",
       ".xr-section-item input:enabled + label {\n",
       "  cursor: pointer;\n",
       "  color: var(--xr-font-color2);\n",
       "}\n",
       "\n",
       ".xr-section-item input:enabled + label:hover {\n",
       "  color: var(--xr-font-color0);\n",
       "}\n",
       "\n",
       ".xr-section-summary {\n",
       "  grid-column: 1;\n",
       "  color: var(--xr-font-color2);\n",
       "  font-weight: 500;\n",
       "}\n",
       "\n",
       ".xr-section-summary > span {\n",
       "  display: inline-block;\n",
       "  padding-left: 0.5em;\n",
       "}\n",
       "\n",
       ".xr-section-summary-in:disabled + label {\n",
       "  color: var(--xr-font-color2);\n",
       "}\n",
       "\n",
       ".xr-section-summary-in + label:before {\n",
       "  display: inline-block;\n",
       "  content: '►';\n",
       "  font-size: 11px;\n",
       "  width: 15px;\n",
       "  text-align: center;\n",
       "}\n",
       "\n",
       ".xr-section-summary-in:disabled + label:before {\n",
       "  color: var(--xr-disabled-color);\n",
       "}\n",
       "\n",
       ".xr-section-summary-in:checked + label:before {\n",
       "  content: '▼';\n",
       "}\n",
       "\n",
       ".xr-section-summary-in:checked + label > span {\n",
       "  display: none;\n",
       "}\n",
       "\n",
       ".xr-section-summary,\n",
       ".xr-section-inline-details {\n",
       "  padding-top: 4px;\n",
       "  padding-bottom: 4px;\n",
       "}\n",
       "\n",
       ".xr-section-inline-details {\n",
       "  grid-column: 2 / -1;\n",
       "}\n",
       "\n",
       ".xr-section-details {\n",
       "  display: none;\n",
       "  grid-column: 1 / -1;\n",
       "  margin-bottom: 5px;\n",
       "}\n",
       "\n",
       ".xr-section-summary-in:checked ~ .xr-section-details {\n",
       "  display: contents;\n",
       "}\n",
       "\n",
       ".xr-array-wrap {\n",
       "  grid-column: 1 / -1;\n",
       "  display: grid;\n",
       "  grid-template-columns: 20px auto;\n",
       "}\n",
       "\n",
       ".xr-array-wrap > label {\n",
       "  grid-column: 1;\n",
       "  vertical-align: top;\n",
       "}\n",
       "\n",
       ".xr-preview {\n",
       "  color: var(--xr-font-color3);\n",
       "}\n",
       "\n",
       ".xr-array-preview,\n",
       ".xr-array-data {\n",
       "  padding: 0 5px !important;\n",
       "  grid-column: 2;\n",
       "}\n",
       "\n",
       ".xr-array-data,\n",
       ".xr-array-in:checked ~ .xr-array-preview {\n",
       "  display: none;\n",
       "}\n",
       "\n",
       ".xr-array-in:checked ~ .xr-array-data,\n",
       ".xr-array-preview {\n",
       "  display: inline-block;\n",
       "}\n",
       "\n",
       ".xr-dim-list {\n",
       "  display: inline-block !important;\n",
       "  list-style: none;\n",
       "  padding: 0 !important;\n",
       "  margin: 0;\n",
       "}\n",
       "\n",
       ".xr-dim-list li {\n",
       "  display: inline-block;\n",
       "  padding: 0;\n",
       "  margin: 0;\n",
       "}\n",
       "\n",
       ".xr-dim-list:before {\n",
       "  content: '(';\n",
       "}\n",
       "\n",
       ".xr-dim-list:after {\n",
       "  content: ')';\n",
       "}\n",
       "\n",
       ".xr-dim-list li:not(:last-child):after {\n",
       "  content: ',';\n",
       "  padding-right: 5px;\n",
       "}\n",
       "\n",
       ".xr-has-index {\n",
       "  font-weight: bold;\n",
       "}\n",
       "\n",
       ".xr-var-list,\n",
       ".xr-var-item {\n",
       "  display: contents;\n",
       "}\n",
       "\n",
       ".xr-var-item > div,\n",
       ".xr-var-item label,\n",
       ".xr-var-item > .xr-var-name span {\n",
       "  background-color: var(--xr-background-color-row-even);\n",
       "  margin-bottom: 0;\n",
       "}\n",
       "\n",
       ".xr-var-item > .xr-var-name:hover span {\n",
       "  padding-right: 5px;\n",
       "}\n",
       "\n",
       ".xr-var-list > li:nth-child(odd) > div,\n",
       ".xr-var-list > li:nth-child(odd) > label,\n",
       ".xr-var-list > li:nth-child(odd) > .xr-var-name span {\n",
       "  background-color: var(--xr-background-color-row-odd);\n",
       "}\n",
       "\n",
       ".xr-var-name {\n",
       "  grid-column: 1;\n",
       "}\n",
       "\n",
       ".xr-var-dims {\n",
       "  grid-column: 2;\n",
       "}\n",
       "\n",
       ".xr-var-dtype {\n",
       "  grid-column: 3;\n",
       "  text-align: right;\n",
       "  color: var(--xr-font-color2);\n",
       "}\n",
       "\n",
       ".xr-var-preview {\n",
       "  grid-column: 4;\n",
       "}\n",
       "\n",
       ".xr-var-name,\n",
       ".xr-var-dims,\n",
       ".xr-var-dtype,\n",
       ".xr-preview,\n",
       ".xr-attrs dt {\n",
       "  white-space: nowrap;\n",
       "  overflow: hidden;\n",
       "  text-overflow: ellipsis;\n",
       "  padding-right: 10px;\n",
       "}\n",
       "\n",
       ".xr-var-name:hover,\n",
       ".xr-var-dims:hover,\n",
       ".xr-var-dtype:hover,\n",
       ".xr-attrs dt:hover {\n",
       "  overflow: visible;\n",
       "  width: auto;\n",
       "  z-index: 1;\n",
       "}\n",
       "\n",
       ".xr-var-attrs,\n",
       ".xr-var-data {\n",
       "  display: none;\n",
       "  background-color: var(--xr-background-color) !important;\n",
       "  padding-bottom: 5px !important;\n",
       "}\n",
       "\n",
       ".xr-var-attrs-in:checked ~ .xr-var-attrs,\n",
       ".xr-var-data-in:checked ~ .xr-var-data {\n",
       "  display: block;\n",
       "}\n",
       "\n",
       ".xr-var-data > table {\n",
       "  float: right;\n",
       "}\n",
       "\n",
       ".xr-var-name span,\n",
       ".xr-var-data,\n",
       ".xr-attrs {\n",
       "  padding-left: 25px !important;\n",
       "}\n",
       "\n",
       ".xr-attrs,\n",
       ".xr-var-attrs,\n",
       ".xr-var-data {\n",
       "  grid-column: 1 / -1;\n",
       "}\n",
       "\n",
       "dl.xr-attrs {\n",
       "  padding: 0;\n",
       "  margin: 0;\n",
       "  display: grid;\n",
       "  grid-template-columns: 125px auto;\n",
       "}\n",
       "\n",
       ".xr-attrs dt,\n",
       ".xr-attrs dd {\n",
       "  padding: 0;\n",
       "  margin: 0;\n",
       "  float: left;\n",
       "  padding-right: 10px;\n",
       "  width: auto;\n",
       "}\n",
       "\n",
       ".xr-attrs dt {\n",
       "  font-weight: normal;\n",
       "  grid-column: 1;\n",
       "}\n",
       "\n",
       ".xr-attrs dt:hover span {\n",
       "  display: inline-block;\n",
       "  background: var(--xr-background-color);\n",
       "  padding-right: 10px;\n",
       "}\n",
       "\n",
       ".xr-attrs dd {\n",
       "  grid-column: 2;\n",
       "  white-space: pre-wrap;\n",
       "  word-break: break-all;\n",
       "}\n",
       "\n",
       ".xr-icon-database,\n",
       ".xr-icon-file-text2 {\n",
       "  display: inline-block;\n",
       "  vertical-align: middle;\n",
       "  width: 1em;\n",
       "  height: 1.5em !important;\n",
       "  stroke-width: 0;\n",
       "  stroke: currentColor;\n",
       "  fill: currentColor;\n",
       "}\n",
       "</style><pre class='xr-text-repr-fallback'>&lt;xarray.DataArray &#x27;temp&#x27; (t: 12, deptht: 50, lat: 715, lon: 715)&gt;\n",
       "[306735000 values with dtype=float32]\n",
       "Coordinates:\n",
       "  * deptht   (deptht) float32 0.494 1.541 2.646 ... 5.275e+03 5.728e+03\n",
       "  * lat      (lat) float32 44.33 44.35 44.38 44.4 ... 59.55 59.57 59.59 59.61\n",
       "  * lon      (lon) float32 -142.3 -142.3 -142.2 -142.2 ... -120.6 -120.6 -120.6\n",
       "  * t        (t) float32 1.5 2.5 3.5 4.5 5.5 6.5 7.5 8.5 9.5 10.5 11.5 12.5\n",
       "Attributes:\n",
       "    standard_name:  sea_water_potential_temperature\n",
       "    long_name:      temperature\n",
       "    units:          degC</pre><div class='xr-wrap' hidden><div class='xr-header'><div class='xr-obj-type'>xarray.DataArray</div><div class='xr-array-name'>'temp'</div><ul class='xr-dim-list'><li><span class='xr-has-index'>t</span>: 12</li><li><span class='xr-has-index'>deptht</span>: 50</li><li><span class='xr-has-index'>lat</span>: 715</li><li><span class='xr-has-index'>lon</span>: 715</li></ul></div><ul class='xr-sections'><li class='xr-section-item'><div class='xr-array-wrap'><input id='section-14c65fc6-a602-4624-a18d-bcc49d8fe494' class='xr-array-in' type='checkbox' checked><label for='section-14c65fc6-a602-4624-a18d-bcc49d8fe494' title='Show/hide data repr'><svg class='icon xr-icon-database'><use xlink:href='#icon-database'></use></svg></label><div class='xr-array-preview xr-preview'><span>...</span></div><div class='xr-array-data'><pre>[306735000 values with dtype=float32]</pre></div></div></li><li class='xr-section-item'><input id='section-5dd5ed9d-8f06-47a4-9bec-4546046f7704' class='xr-section-summary-in' type='checkbox'  checked><label for='section-5dd5ed9d-8f06-47a4-9bec-4546046f7704' class='xr-section-summary' >Coordinates: <span>(4)</span></label><div class='xr-section-inline-details'></div><div class='xr-section-details'><ul class='xr-var-list'><li class='xr-var-item'><div class='xr-var-name'><span class='xr-has-index'>deptht</span></div><div class='xr-var-dims'>(deptht)</div><div class='xr-var-dtype'>float32</div><div class='xr-var-preview xr-preview'>0.494 1.541 ... 5.275e+03 5.728e+03</div><input id='attrs-04cbb289-cf7c-4180-aafc-c163bca33c14' class='xr-var-attrs-in' type='checkbox' ><label for='attrs-04cbb289-cf7c-4180-aafc-c163bca33c14' title='Show/Hide attributes'><svg class='icon xr-icon-file-text2'><use xlink:href='#icon-file-text2'></use></svg></label><input id='data-65f2138b-74ac-478a-8334-a007ee71e99f' class='xr-var-data-in' type='checkbox'><label for='data-65f2138b-74ac-478a-8334-a007ee71e99f' title='Show/Hide data repr'><svg class='icon xr-icon-database'><use xlink:href='#icon-database'></use></svg></label><div class='xr-var-attrs'><dl class='xr-attrs'><dt><span>long_name :</span></dt><dd>depth at T grid levels</dd><dt><span>units :</span></dt><dd>m</dd><dt><span>positive :</span></dt><dd>down</dd><dt><span>axis :</span></dt><dd>Z</dd><dt><span>bounds :</span></dt><dd>deptht_bnds</dd></dl></div><div class='xr-var-data'><pre>array([4.940254e-01, 1.541375e+00, 2.645669e+00, 3.819495e+00, 5.078224e+00,\n",
       "       6.440614e+00, 7.929560e+00, 9.572997e+00, 1.140500e+01, 1.346714e+01,\n",
       "       1.581007e+01, 1.849556e+01, 2.159882e+01, 2.521141e+01, 2.944473e+01,\n",
       "       3.443415e+01, 4.034405e+01, 4.737369e+01, 5.576429e+01, 6.580727e+01,\n",
       "       7.785385e+01, 9.232607e+01, 1.097293e+02, 1.306660e+02, 1.558507e+02,\n",
       "       1.861256e+02, 2.224752e+02, 2.660403e+02, 3.181274e+02, 3.802130e+02,\n",
       "       4.539377e+02, 5.410889e+02, 6.435668e+02, 7.633331e+02, 9.023393e+02,\n",
       "       1.062440e+03, 1.245291e+03, 1.452251e+03, 1.684284e+03, 1.941893e+03,\n",
       "       2.225078e+03, 2.533336e+03, 2.865703e+03, 3.220820e+03, 3.597032e+03,\n",
       "       3.992484e+03, 4.405224e+03, 4.833291e+03, 5.274784e+03, 5.727917e+03],\n",
       "      dtype=float32)</pre></div></li><li class='xr-var-item'><div class='xr-var-name'><span class='xr-has-index'>lat</span></div><div class='xr-var-dims'>(lat)</div><div class='xr-var-dtype'>float32</div><div class='xr-var-preview xr-preview'>44.33 44.35 44.38 ... 59.59 59.61</div><input id='attrs-5e39c2b4-4030-4ad9-b457-b4b9b3dac2a3' class='xr-var-attrs-in' type='checkbox' ><label for='attrs-5e39c2b4-4030-4ad9-b457-b4b9b3dac2a3' title='Show/Hide attributes'><svg class='icon xr-icon-file-text2'><use xlink:href='#icon-file-text2'></use></svg></label><input id='data-3b6bb2bd-d49f-4cc4-98f7-ebf9a3a4172d' class='xr-var-data-in' type='checkbox'><label for='data-3b6bb2bd-d49f-4cc4-98f7-ebf9a3a4172d' title='Show/Hide data repr'><svg class='icon xr-icon-database'><use xlink:href='#icon-database'></use></svg></label><div class='xr-var-attrs'><dl class='xr-attrs'><dt><span>standard_name :</span></dt><dd>latitude</dd><dt><span>long_name :</span></dt><dd>latitude</dd><dt><span>units :</span></dt><dd>degrees_north</dd><dt><span>axis :</span></dt><dd>Y</dd></dl></div><div class='xr-var-data'><pre>array([44.332672, 44.354073, 44.37547 , ..., 59.568848, 59.59025 , 59.611645],\n",
       "      dtype=float32)</pre></div></li><li class='xr-var-item'><div class='xr-var-name'><span class='xr-has-index'>lon</span></div><div class='xr-var-dims'>(lon)</div><div class='xr-var-dtype'>float32</div><div class='xr-var-preview xr-preview'>-142.3 -142.3 ... -120.6 -120.6</div><input id='attrs-f5c6e89b-cf83-4c07-8e03-e825aec79667' class='xr-var-attrs-in' type='checkbox' ><label for='attrs-f5c6e89b-cf83-4c07-8e03-e825aec79667' title='Show/Hide attributes'><svg class='icon xr-icon-file-text2'><use xlink:href='#icon-file-text2'></use></svg></label><input id='data-050351b2-7811-4ace-ada7-badd02272a89' class='xr-var-data-in' type='checkbox'><label for='data-050351b2-7811-4ace-ada7-badd02272a89' title='Show/Hide data repr'><svg class='icon xr-icon-database'><use xlink:href='#icon-database'></use></svg></label><div class='xr-var-attrs'><dl class='xr-attrs'><dt><span>standard_name :</span></dt><dd>longitude</dd><dt><span>long_name :</span></dt><dd>longitude</dd><dt><span>units :</span></dt><dd>degrees_east</dd><dt><span>axis :</span></dt><dd>X</dd></dl></div><div class='xr-var-data'><pre>array([-142.28317 , -142.25276 , -142.22235 , ..., -120.63208 , -120.60167 ,\n",
       "       -120.571266], dtype=float32)</pre></div></li><li class='xr-var-item'><div class='xr-var-name'><span class='xr-has-index'>t</span></div><div class='xr-var-dims'>(t)</div><div class='xr-var-dtype'>float32</div><div class='xr-var-preview xr-preview'>1.5 2.5 3.5 4.5 ... 10.5 11.5 12.5</div><input id='attrs-4c142f78-f734-449d-a4c4-9fa768dea6b9' class='xr-var-attrs-in' type='checkbox' ><label for='attrs-4c142f78-f734-449d-a4c4-9fa768dea6b9' title='Show/Hide attributes'><svg class='icon xr-icon-file-text2'><use xlink:href='#icon-file-text2'></use></svg></label><input id='data-d30bd685-a182-416a-9941-9aa8a2711717' class='xr-var-data-in' type='checkbox'><label for='data-d30bd685-a182-416a-9941-9aa8a2711717' title='Show/Hide data repr'><svg class='icon xr-icon-database'><use xlink:href='#icon-database'></use></svg></label><div class='xr-var-attrs'><dl class='xr-attrs'><dt><span>standard_name :</span></dt><dd>time</dd><dt><span>long_name :</span></dt><dd>time</dd><dt><span>units :</span></dt><dd>months</dd><dt><span>calendar :</span></dt><dd>proleptic_gregorian</dd><dt><span>axis :</span></dt><dd>T</dd></dl></div><div class='xr-var-data'><pre>array([ 1.5,  2.5,  3.5,  4.5,  5.5,  6.5,  7.5,  8.5,  9.5, 10.5, 11.5, 12.5],\n",
       "      dtype=float32)</pre></div></li></ul></div></li><li class='xr-section-item'><input id='section-55b4766c-3919-4a19-8879-7a86ed2556af' class='xr-section-summary-in' type='checkbox'  checked><label for='section-55b4766c-3919-4a19-8879-7a86ed2556af' class='xr-section-summary' >Attributes: <span>(3)</span></label><div class='xr-section-inline-details'></div><div class='xr-section-details'><dl class='xr-attrs'><dt><span>standard_name :</span></dt><dd>sea_water_potential_temperature</dd><dt><span>long_name :</span></dt><dd>temperature</dd><dt><span>units :</span></dt><dd>degC</dd></dl></div></li></ul></div></div>"
      ],
      "text/plain": [
       "<xarray.DataArray 'temp' (t: 12, deptht: 50, lat: 715, lon: 715)>\n",
       "[306735000 values with dtype=float32]\n",
       "Coordinates:\n",
       "  * deptht   (deptht) float32 0.494 1.541 2.646 ... 5.275e+03 5.728e+03\n",
       "  * lat      (lat) float32 44.33 44.35 44.38 44.4 ... 59.55 59.57 59.59 59.61\n",
       "  * lon      (lon) float32 -142.3 -142.3 -142.2 -142.2 ... -120.6 -120.6 -120.6\n",
       "  * t        (t) float32 1.5 2.5 3.5 4.5 5.5 6.5 7.5 8.5 9.5 10.5 11.5 12.5\n",
       "Attributes:\n",
       "    standard_name:  sea_water_potential_temperature\n",
       "    long_name:      temperature\n",
       "    units:          degC"
      ]
     },
     "execution_count": 7,
     "metadata": {},
     "output_type": "execute_result"
    }
   ],
   "source": [
    "darr = ds[variable]\n",
    "darr"
   ]
  },
  {
   "cell_type": "markdown",
   "metadata": {},
   "source": [
    "## Assign months to \"seasons\""
   ]
  },
  {
   "cell_type": "markdown",
   "metadata": {},
   "source": [
    "The time index is given units of *months* evaluated at the middle of the month."
   ]
  },
  {
   "cell_type": "code",
   "execution_count": 8,
   "metadata": {},
   "outputs": [
    {
     "data": {
      "text/plain": [
       "array([ 1.5,  2.5,  3.5,  4.5,  5.5,  6.5,  7.5,  8.5,  9.5, 10.5, 11.5,\n",
       "       12.5], dtype=float32)"
      ]
     },
     "execution_count": 8,
     "metadata": {},
     "output_type": "execute_result"
    }
   ],
   "source": [
    "darr.t.values"
   ]
  },
  {
   "cell_type": "markdown",
   "metadata": {},
   "source": [
    "We want to group the data by season (*fallwinter* or *springsummer*) so we redefine the times accordingly:"
   ]
  },
  {
   "cell_type": "code",
   "execution_count": 9,
   "metadata": {},
   "outputs": [],
   "source": [
    "darr['t'] = ['fallwinter', 'fallwinter', 'springsummer',     # JFM\n",
    "           'springsummer', 'springsummer', 'springsummer', # AMJ\n",
    "           'springsummer', 'springsummer', 'fallwinter',   # JAS\n",
    "           'fallwinter', 'fallwinter', 'fallwinter'        # OND\n",
    "          ]"
   ]
  },
  {
   "cell_type": "markdown",
   "metadata": {},
   "source": [
    "### Extracting surface and bottom layers"
   ]
  },
  {
   "cell_type": "markdown",
   "metadata": {},
   "source": [
    "We can extract the surface layer by retrieving only the data at with `deptht = 0`. The \"depth\" index is set to 0 everywhere."
   ]
  },
  {
   "cell_type": "code",
   "execution_count": 10,
   "metadata": {},
   "outputs": [],
   "source": [
    "deptht_index = 0\n",
    "darr_surface = darr.isel(deptht=deptht_index)"
   ]
  },
  {
   "cell_type": "markdown",
   "metadata": {},
   "source": [
    "To extract the benthic layer, we first determine the depth at each grid point and then use that to look up the value for the bottom layer."
   ]
  },
  {
   "cell_type": "markdown",
   "metadata": {},
   "source": [
    "(*Note: use of Dask to parallelize this operation is not yet supported by the library. Leaving the array as a DaskArray wil lead to `TypeError: unexpected indexer type for VectorizedIndexer` exceptions. This is known limitation of Xarray/Dask and is currently marked as an [open issue](https://github.com/pydata/xarray/issues/2511) on GitHub. This is why we are explicitly loading the array into RAM.*)"
   ]
  },
  {
   "cell_type": "code",
   "execution_count": 11,
   "metadata": {},
   "outputs": [
    {
     "name": "stdout",
     "output_type": "stream",
     "text": [
      "CPU times: user 15.6 s, sys: 2.23 s, total: 17.8 s\n",
      "Wall time: 17.8 s\n"
     ]
    }
   ],
   "source": [
    "%%time\n",
    "deptht_index = darr.notnull().sum('deptht') - 1\n",
    "darr_bottom = darr.isel(deptht=deptht_index)"
   ]
  },
  {
   "cell_type": "markdown",
   "metadata": {},
   "source": [
    "Due to the loading all of the data into memory, this step is somewhat expensive, but only needs to be run once per NetCDF file."
   ]
  },
  {
   "cell_type": "markdown",
   "metadata": {},
   "source": [
    "## Average over seasons"
   ]
  },
  {
   "cell_type": "markdown",
   "metadata": {},
   "source": [
    "We can then group the data by seaon and compute the mean."
   ]
  },
  {
   "cell_type": "code",
   "execution_count": 12,
   "metadata": {},
   "outputs": [],
   "source": [
    "darr_surface_mean = darr_surface.groupby('t').mean('t')\n",
    "darr_bottom_mean = darr_bottom.groupby('t').mean('t')"
   ]
  },
  {
   "cell_type": "markdown",
   "metadata": {},
   "source": [
    "## Verification of results"
   ]
  },
  {
   "cell_type": "markdown",
   "metadata": {},
   "source": [
    "Here is a plot for the temperature field along the surface and benthic layer for the two \"seasons\"."
   ]
  },
  {
   "cell_type": "code",
   "execution_count": 13,
   "metadata": {},
   "outputs": [
    {
     "data": {
      "image/png": "[encoded data removed]",
      "text/plain": [
       "<Figure size 576x576 with 5 Axes>"
      ]
     },
     "metadata": {
      "image/png": {
       "height": 495,
       "width": 529
      },
      "needs_background": "light"
     },
     "output_type": "display_data"
    }
   ],
   "source": [
    "fig, ((ax1, ax2), (ax3, ax4)) = plt.subplots(2, 2, figsize=(8,8))\n",
    "kwargs = {'vmin':-2, 'vmax':16, 'add_colorbar': False}\n",
    "\n",
    "p1 = darr_surface_mean.sel(t='springsummer').plot(ax=ax1, **kwargs)\n",
    "ax1.set_title('Surface, Spring/Summer'); ax1.set_xlabel('')\n",
    "p2 = darr_surface_mean.sel(t='fallwinter').plot(ax=ax2, **kwargs)\n",
    "ax2.set_title('Surface, Fall/Winter'); ax2.set_xlabel(''); ax2.set_ylabel('')\n",
    "p3 = darr_bottom_mean.sel(t='springsummer').plot(ax=ax3, **kwargs)\n",
    "ax3.set_title('Bottom, Spring/Summer'); \n",
    "p4 = darr_bottom_mean.sel(t='fallwinter').plot(ax=ax4, **kwargs)\n",
    "ax4.set_title('Bottom, Fall/Winter'); ax4.set_ylabel('')\n",
    "\n",
    "fig.subplots_adjust(right=0.8)\n",
    "cbar_ax = fig.add_axes([0.85, 0.15, 0.05, 0.7])\n",
    "cbar = fig.colorbar(p4, cax=cbar_ax)\n",
    "cbar.set_label(variable)\n",
    "\n",
    "plt.show()"
   ]
  },
  {
   "cell_type": "markdown",
   "metadata": {},
   "source": [
    "## Output of GeoTIFF files"
   ]
  },
  {
   "cell_type": "markdown",
   "metadata": {},
   "source": [
    "We want to save the converted files as GeoTIFF with the naming pattern"
   ]
  },
  {
   "cell_type": "code",
   "execution_count": 14,
   "metadata": {},
   "outputs": [],
   "source": [
    "outfile_pattern = 'NEP36-CanOE_{simulation}_{variable}_{season}_{level}.tif'"
   ]
  },
  {
   "cell_type": "markdown",
   "metadata": {},
   "source": [
    "For example, here we save the bottom layer for temperature averaged over the fall/winter season:"
   ]
  },
  {
   "cell_type": "code",
   "execution_count": 15,
   "metadata": {},
   "outputs": [],
   "source": [
    "filename = outfile_pattern.format(variable=variable, \n",
    "                                  simulation=simulation,\n",
    "                                  season='fallwinter',\n",
    "                                  level='bottom')\n",
    "\n",
    "darr_bottom_mean.rio.set_crs('EPSG:4362', inplace=True) \n",
    "darr_bottom_mean.rio.to_raster(filename)"
   ]
  },
  {
   "cell_type": "markdown",
   "metadata": {},
   "source": [
    "Here is the metadata in the GeoTIFF file showing that the correct CRS has been defined."
   ]
  },
  {
   "cell_type": "code",
   "execution_count": 16,
   "metadata": {},
   "outputs": [
    {
     "name": "stdout",
     "output_type": "stream",
     "text": [
      "{\"bounds\": [-142.29837702369156, 59.62234430553533, -120.55606175804672, 44.32197255847835], \"colorinterp\": [\"gray\", \"undefined\"], \"count\": 2, \"crs\": \"GEOCCS[\\\"NAD83(HARN) (geocentric)\\\",DATUM[\\\"NAD83_High_Accuracy_Reference_Network\\\",SPHEROID[\\\"GRS 1980\\\",6378137,298.257222101004,AUTHORITY[\\\"EPSG\\\",\\\"7019\\\"]],AUTHORITY[\\\"EPSG\\\",\\\"6152\\\"]],PRIMEM[\\\"Greenwich\\\",0],UNIT[\\\"metre\\\",1],AXIS[\\\"Geocentric X\\\",OTHER],AXIS[\\\"Geocentric Y\\\",OTHER],AXIS[\\\"Geocentric Z\\\",NORTH]]\", \"descriptions\": [\"temp\", \"temp\"], \"driver\": \"GTiff\", \"dtype\": \"float32\", \"height\": 715, \"indexes\": [1, 2], \"interleave\": \"pixel\", \"lnglat\": [158.42395754330963, 90.0], \"mask_flags\": [[\"all_valid\"], [\"all_valid\"]], \"nodata\": null, \"res\": [0.0304088325393634, -0.021399121324555213], \"shape\": [715, 715], \"tiled\": false, \"transform\": [0.0304088325393634, 0.0, -142.29837702369156, 0.0, 0.021399121324555213, 44.32197255847835, 0.0, 0.0, 1.0], \"units\": [null, null], \"width\": 715}\n"
     ]
    }
   ],
   "source": [
    "!rio info NEP36-CanOE_historical_1986-2005_temp_fallwinter_bottom.tif"
   ]
  },
  {
   "cell_type": "markdown",
   "metadata": {},
   "source": [
    "The above approach will work for any full-depth variable such as temperature, salinity, pH, speed, O2, or NO3."
   ]
  },
  {
   "cell_type": "markdown",
   "metadata": {},
   "source": [
    "## Complete implementation"
   ]
  },
  {
   "cell_type": "markdown",
   "metadata": {},
   "source": [
    "We can combine all of the above steps into a single function:"
   ]
  },
  {
   "cell_type": "code",
   "execution_count": 3,
   "metadata": {},
   "outputs": [],
   "source": [
    "input_dir = './NEP36-CanOE_masked_715'\n",
    "ncfile_pattern = 'NEP36-CanOE_{variable}_{simulation}_monthly_715x715_mask.nc'\n",
    "outfile_pattern = 'NEP36-CanOE_{simulation}_{variable}_{season}_{level}.tif'\n",
    "\n",
    "def process_climate_output(simulation, variable, force=True):\n",
    "    \n",
    "    print(f'Processing {simulation} for {variable}...')\n",
    "    \n",
    "    # skip processing if output files already exist\n",
    "    allFilesFound = True\n",
    "    for level in ['surface', 'bottom']:\n",
    "        for season in ['springsummer', 'fallwinter']:\n",
    "            filename = outfile_pattern.format(variable=variable, \n",
    "                                  simulation=simulation,\n",
    "                                  season=season,\n",
    "                                  level=level)\n",
    "            allFilesFound &= os.path.exists(filename)\n",
    "    if allFilesFound and not force:\n",
    "        return\n",
    "    \n",
    "    simulation_shortname = simulation.split('_')[0]\n",
    "    \n",
    "    path = os.path.join(input_dir, simulation_shortname)\n",
    "    ncfile = os.path.join(path, ncfile_pattern.format(variable=variable, simulation=simulation))\n",
    "\n",
    "    ds = xr.open_dataset(ncfile)\n",
    "    if 'deptht' in ds:\n",
    "        # use the same name for depth dimension\n",
    "        ds = ds.rename({'deptht':'depth'})\n",
    "    \n",
    "    darr = ds[variable]\n",
    "    \n",
    "    darr['t'] = ['fallwinter', 'fallwinter', 'springsummer',     # JFM\n",
    "               'springsummer', 'springsummer', 'springsummer', # AMJ\n",
    "               'springsummer', 'springsummer', 'fallwinter',   # JAS\n",
    "               'fallwinter', 'fallwinter', 'fallwinter'        # OND\n",
    "                ]\n",
    "\n",
    "    \n",
    "    for level in ['surface', 'bottom']:\n",
    "        if level=='surface':\n",
    "            depth_index = 0\n",
    "        else: # find index of the \"bottom\"\n",
    "            depth_index = darr.notnull().sum('depth') - 1\n",
    "\n",
    "        darr_level = darr.isel(depth=depth_index)\n",
    "        darr_mean = darr_level.groupby('t').mean('t')\n",
    "\n",
    "        for season in ['springsummer', 'fallwinter']:\n",
    "            darr_output = darr_mean.sel(t=season)\n",
    "            \n",
    "            filename = outfile_pattern.format(variable=variable, \n",
    "                                  simulation=simulation,\n",
    "                                  season=season,\n",
    "                                  level=level)\n",
    "            darr_output.rio.set_crs('EPSG:4362', inplace=True) \n",
    "            \n",
    "            darr_output.rio.to_raster(filename)"
   ]
  },
  {
   "cell_type": "markdown",
   "metadata": {},
   "source": [
    "Now we can write"
   ]
  },
  {
   "cell_type": "code",
   "execution_count": 18,
   "metadata": {},
   "outputs": [
    {
     "name": "stdout",
     "output_type": "stream",
     "text": [
      "Processing historical_1986-2005 for temp...\n",
      "CPU times: user 16.3 s, sys: 1.76 s, total: 18.1 s\n",
      "Wall time: 18.1 s\n"
     ]
    }
   ],
   "source": [
    "%%time\n",
    "process_climate_output(simulation='historical_1986-2005', variable='temp')"
   ]
  },
  {
   "cell_type": "markdown",
   "metadata": {},
   "source": [
    "to produce all four required GeoTIFFs at once."
   ]
  },
  {
   "cell_type": "markdown",
   "metadata": {},
   "source": [
    "## Processing all full-depth variables"
   ]
  },
  {
   "cell_type": "markdown",
   "metadata": {},
   "source": [
    "We want to convert the following full depth variables:\n",
    "\n",
    "- O2\n",
    "- PH\n",
    "- T\n",
    "- S\n",
    "- NO3\n",
    "- speed"
   ]
  },
  {
   "cell_type": "markdown",
   "metadata": {},
   "source": [
    "In terms of variables names for the different NetCDF files, these are"
   ]
  },
  {
   "cell_type": "code",
   "execution_count": 2,
   "metadata": {},
   "outputs": [],
   "source": [
    "variables = ['O2', 'PH', 'temp', 'salt', 'NO3', 'speed']\n",
    "\n",
    "simulations = ['historical_1986-2005', \n",
    "               'RCP45_2046-2065', \n",
    "               'RCP85_2046-2065']"
   ]
  },
  {
   "cell_type": "markdown",
   "metadata": {},
   "source": [
    "And then convert all of the NetCDF files in a loop:"
   ]
  },
  {
   "cell_type": "code",
   "execution_count": 20,
   "metadata": {},
   "outputs": [
    {
     "name": "stdout",
     "output_type": "stream",
     "text": [
      "Processing historical_1986-2005 for O2...\n",
      "Processing RCP45_2046-2065 for O2...\n",
      "Processing RCP85_2046-2065 for O2...\n",
      "Processing historical_1986-2005 for PH...\n",
      "Processing RCP45_2046-2065 for PH...\n",
      "Processing RCP85_2046-2065 for PH...\n",
      "Processing historical_1986-2005 for temp...\n",
      "Processing RCP45_2046-2065 for temp...\n",
      "Processing RCP85_2046-2065 for temp...\n",
      "Processing historical_1986-2005 for salt...\n",
      "Processing RCP45_2046-2065 for salt...\n",
      "Processing RCP85_2046-2065 for salt...\n",
      "Processing historical_1986-2005 for NO3...\n",
      "Processing RCP45_2046-2065 for NO3...\n",
      "Processing RCP85_2046-2065 for NO3...\n",
      "Processing historical_1986-2005 for speed...\n",
      "Processing RCP45_2046-2065 for speed...\n",
      "Processing RCP85_2046-2065 for speed...\n",
      "CPU times: user 4min 39s, sys: 15.2 s, total: 4min 55s\n",
      "Wall time: 5min 3s\n"
     ]
    }
   ],
   "source": [
    "%%time\n",
    "for variable in variables:\n",
    "    for simulation in simulations:\n",
    "        process_climate_output(simulation=simulation, variable=variable, force=False)"
   ]
  },
  {
   "cell_type": "markdown",
   "metadata": {},
   "source": [
    "### Mixed Layer Depth\n"
   ]
  },
  {
   "cell_type": "markdown",
   "metadata": {},
   "source": [
    "The mixed layer depth requires only averaging in time since there are no vertical levels."
   ]
  },
  {
   "cell_type": "markdown",
   "metadata": {},
   "source": [
    "### Integrated Primary Production\n",
    "To determine the IPP we need to integrate the total primary production (TPP) vertically."
   ]
  },
  {
   "cell_type": "code",
   "execution_count": 4,
   "metadata": {},
   "outputs": [],
   "source": [
    "def process_climate_output_2d(simulation, variable):\n",
    "      \n",
    "    print(f'Processing {simulation} for {variable}...')\n",
    "    \n",
    "    simulation_shortname = simulation.split('_')[0]\n",
    "    \n",
    "    path = os.path.join(input_dir, simulation_shortname)\n",
    "    ncfile = os.path.join(path, ncfile_pattern.format(variable=variable, simulation=simulation))\n",
    "\n",
    "    ds = xr.open_dataset(ncfile)\n",
    "    darr = ds[variable]\n",
    "    \n",
    "    darr['t'] = ['fallwinter', 'fallwinter', 'springsummer',     # JFM\n",
    "               'springsummer', 'springsummer', 'springsummer', # AMJ\n",
    "               'springsummer', 'springsummer', 'fallwinter',   # JAS\n",
    "               'fallwinter', 'fallwinter', 'fallwinter'        # OND\n",
    "                ]\n",
    "\n",
    "    if variable == 'TPP':\n",
    "        darr = darr.integrate('deptht')\n",
    "        # rename to integrated primary production\n",
    "        variable = 'ipp'\n",
    "    elif variable == 'mld':\n",
    "        pass # do nothing\n",
    "    else:\n",
    "        print(f'Warning: Did you really want to process {variable}?')\n",
    "\n",
    "    darr_mean = darr.groupby('t').mean('t')\n",
    "    \n",
    "    for season in ['springsummer', 'fallwinter']:\n",
    "        darr_output = darr_mean.sel(t=season)\n",
    "\n",
    "        filename = f'NEP36-CanOE_{simulation}_{variable}_{season}.tif'\n",
    "        darr_output.rio.set_crs('EPSG:4362', inplace=True) \n",
    "\n",
    "        darr_output.rio.to_raster(filename)"
   ]
  },
  {
   "cell_type": "code",
   "execution_count": 5,
   "metadata": {},
   "outputs": [
    {
     "name": "stdout",
     "output_type": "stream",
     "text": [
      "Processing historical_1986-2005 for mld...\n",
      "Processing RCP45_2046-2065 for mld...\n",
      "Processing RCP85_2046-2065 for mld...\n",
      "Processing historical_1986-2005 for TPP...\n",
      "Processing RCP45_2046-2065 for TPP...\n",
      "Processing RCP85_2046-2065 for TPP...\n",
      "CPU times: user 51.2 s, sys: 7.07 s, total: 58.2 s\n",
      "Wall time: 59.9 s\n"
     ]
    }
   ],
   "source": [
    "%%time\n",
    "for variable in ['mld', 'TPP']:\n",
    "    for simulation in simulations:\n",
    "        process_climate_output_2d(simulation, variable)"
   ]
  },
  {
   "cell_type": "code",
   "execution_count": null,
   "metadata": {},
   "outputs": [],
   "source": []
  }
 ],
 "metadata": {
  "kernelspec": {
   "display_name": "Python 3",
   "language": "python",
   "name": "python3"
  },
  "language_info": {
   "codemirror_mode": {
    "name": "ipython",
    "version": 3
   },
   "file_extension": ".py",
   "mimetype": "text/x-python",
   "name": "python",
   "nbconvert_exporter": "python",
   "pygments_lexer": "ipython3",
   "version": "3.9.1"
  }
 },
 "nbformat": 4,
 "nbformat_minor": 4
}
